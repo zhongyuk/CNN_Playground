{
 "cells": [
  {
   "cell_type": "markdown",
   "metadata": {},
   "source": [
    "### Contents\n",
    "1. Extract images based on csv file's ID\n",
    "2. Prepare data for building CNN models for image data\n",
    "3. Build simple CNN model\n",
    "4. Summary\n",
    "\n",
    "### Load libraries"
   ]
  },
  {
   "cell_type": "code",
   "execution_count": 1,
   "metadata": {
    "collapsed": false
   },
   "outputs": [
    {
     "name": "stderr",
     "output_type": "stream",
     "text": [
      "/Users/Zhongyu/.local/lib/python2.7/site-packages/matplotlib/font_manager.py:273: UserWarning: Matplotlib is building the font cache using fc-list. This may take a moment.\n",
      "  warnings.warn('Matplotlib is building the font cache using fc-list. This may take a moment.')\n"
     ]
    }
   ],
   "source": [
    "import pandas as pd\n",
    "import numpy as np\n",
    "import matplotlib.pyplot as plt\n",
    "%matplotlib inline\n",
    "from sklearn.model_selection import train_test_split\n",
    "import tensorflow as tf\n",
    "import sys\n",
    "sys.path.append(\"/Users/Zhongyu/Documents/projects/CNNplayground/leaf/code\")\n",
    "sys.path.append(\"/Users/Zhongyu/Documents/projects/CNNplayground/\")\n",
    "from utils import unpickle_data, one_hot_encode\n",
    "from preprocess import center_data, zca_whiten, pca_whiten\n",
    "from cnn import *\n",
    "from sklearn.model_selection import train_test_split\n",
    "#from preparation_pipes import CNN_pipe_img"
   ]
  },
  {
   "cell_type": "markdown",
   "metadata": {},
   "source": [
    "### Extract ID, species, images from train.csv and images_downsized"
   ]
  },
  {
   "cell_type": "code",
   "execution_count": 2,
   "metadata": {
    "collapsed": true
   },
   "outputs": [],
   "source": [
    "data = pd.read_csv(\"../train.csv\")"
   ]
  },
  {
   "cell_type": "code",
   "execution_count": 3,
   "metadata": {
    "collapsed": true
   },
   "outputs": [],
   "source": [
    "ID_species = data[['id','species']]"
   ]
  },
  {
   "cell_type": "code",
   "execution_count": 40,
   "metadata": {
    "collapsed": true
   },
   "outputs": [],
   "source": [
    "species_encode = unpickle_data(\"../species_encode\")\n",
    "ID_images = unpickle_data(\"../images_downsized32\")"
   ]
  },
  {
   "cell_type": "code",
   "execution_count": 41,
   "metadata": {
    "collapsed": false
   },
   "outputs": [],
   "source": [
    "ID_species_encode = ID_species.replace({'species':species_encode})"
   ]
  },
  {
   "cell_type": "code",
   "execution_count": 42,
   "metadata": {
    "collapsed": false
   },
   "outputs": [
    {
     "name": "stdout",
     "output_type": "stream",
     "text": [
      "(990, 3)\n"
     ]
    }
   ],
   "source": [
    "ID_species_encode['images'] = ID_species['id'].map(lambda ID: ID_images[ID])\n",
    "print ID_species_encode.shape"
   ]
  },
  {
   "cell_type": "code",
   "execution_count": 43,
   "metadata": {
    "collapsed": false
   },
   "outputs": [
    {
     "data": {
      "text/html": [
       "<div>\n",
       "<table border=\"1\" class=\"dataframe\">\n",
       "  <thead>\n",
       "    <tr style=\"text-align: right;\">\n",
       "      <th></th>\n",
       "      <th>id</th>\n",
       "      <th>species</th>\n",
       "      <th>images</th>\n",
       "    </tr>\n",
       "  </thead>\n",
       "  <tbody>\n",
       "    <tr>\n",
       "      <th>0</th>\n",
       "      <td>1</td>\n",
       "      <td>3</td>\n",
       "      <td>[[0, 0, 0, 0, 0, 0, 0, 0, 0, 0, 0, 0, 0, 2, 0,...</td>\n",
       "    </tr>\n",
       "    <tr>\n",
       "      <th>1</th>\n",
       "      <td>2</td>\n",
       "      <td>49</td>\n",
       "      <td>[[0, 0, 1, 4, 2, 0, 0, 0, 0, 0, 0, 0, 0, 0, 0,...</td>\n",
       "    </tr>\n",
       "    <tr>\n",
       "      <th>2</th>\n",
       "      <td>3</td>\n",
       "      <td>65</td>\n",
       "      <td>[[0, 0, 0, 0, 0, 0, 0, 0, 0, 0, 0, 0, 0, 0, 0,...</td>\n",
       "    </tr>\n",
       "    <tr>\n",
       "      <th>3</th>\n",
       "      <td>5</td>\n",
       "      <td>94</td>\n",
       "      <td>[[0, 0, 0, 0, 0, 0, 0, 1, 3, 4, 3, 0, 0, 0, 0,...</td>\n",
       "    </tr>\n",
       "    <tr>\n",
       "      <th>4</th>\n",
       "      <td>6</td>\n",
       "      <td>84</td>\n",
       "      <td>[[0, 0, 0, 0, 0, 0, 1, 3, 3, 0, 0, 0, 0, 0, 0,...</td>\n",
       "    </tr>\n",
       "  </tbody>\n",
       "</table>\n",
       "</div>"
      ],
      "text/plain": [
       "   id  species                                             images\n",
       "0   1        3  [[0, 0, 0, 0, 0, 0, 0, 0, 0, 0, 0, 0, 0, 2, 0,...\n",
       "1   2       49  [[0, 0, 1, 4, 2, 0, 0, 0, 0, 0, 0, 0, 0, 0, 0,...\n",
       "2   3       65  [[0, 0, 0, 0, 0, 0, 0, 0, 0, 0, 0, 0, 0, 0, 0,...\n",
       "3   5       94  [[0, 0, 0, 0, 0, 0, 0, 1, 3, 4, 3, 0, 0, 0, 0,...\n",
       "4   6       84  [[0, 0, 0, 0, 0, 0, 1, 3, 3, 0, 0, 0, 0, 0, 0,..."
      ]
     },
     "execution_count": 43,
     "metadata": {},
     "output_type": "execute_result"
    }
   ],
   "source": [
    "ID_species_encode.head()"
   ]
  },
  {
   "cell_type": "markdown",
   "metadata": {},
   "source": [
    "**Verify**"
   ]
  },
  {
   "cell_type": "code",
   "execution_count": 44,
   "metadata": {
    "collapsed": false
   },
   "outputs": [],
   "source": [
    "sample0 = ID_species_encode['images'].iloc[0]"
   ]
  },
  {
   "cell_type": "code",
   "execution_count": 45,
   "metadata": {
    "collapsed": false
   },
   "outputs": [
    {
     "name": "stdout",
     "output_type": "stream",
     "text": [
      "<type 'numpy.ndarray'>\n",
      "(32, 32)\n"
     ]
    }
   ],
   "source": [
    "print type(sample0)\n",
    "print sample0.shape"
   ]
  },
  {
   "cell_type": "code",
   "execution_count": 46,
   "metadata": {
    "collapsed": false
   },
   "outputs": [
    {
     "data": {
      "text/plain": [
       "<matplotlib.image.AxesImage at 0x11875c710>"
      ]
     },
     "execution_count": 46,
     "metadata": {},
     "output_type": "execute_result"
    },
    {
     "data": {
      "image/png": "[encoded data removed]",
      "text/plain": [
       "<matplotlib.figure.Figure at 0x1195c4310>"
      ]
     },
     "metadata": {},
     "output_type": "display_data"
    }
   ],
   "source": [
    "plt.imshow(sample0,cmap=plt.cm.gray)"
   ]
  },
  {
   "cell_type": "code",
   "execution_count": 47,
   "metadata": {
    "collapsed": true
   },
   "outputs": [],
   "source": [
    "X = np.stack([ID_images[ID] for ID in ID_species['id']], axis=0)\n",
    "#X = ID_species_encode['images']\n",
    "y = ID_species_encode['species']"
   ]
  },
  {
   "cell_type": "markdown",
   "metadata": {},
   "source": [
    "### Prepare data for CNN models\n",
    " - split into training and testing/validation set\n",
    " - one hot encode y\n",
    " - preprocess X: center, whiten, lower percision"
   ]
  },
  {
   "cell_type": "code",
   "execution_count": 48,
   "metadata": {
    "collapsed": true
   },
   "outputs": [],
   "source": [
    "train_X, test_X, train_y, test_y = train_test_split(X, y, test_size=110, stratify=y, random_state=916)"
   ]
  },
  {
   "cell_type": "code",
   "execution_count": 49,
   "metadata": {
    "collapsed": false
   },
   "outputs": [
    {
     "name": "stdout",
     "output_type": "stream",
     "text": [
      "(880, 99)\n",
      "float32\n"
     ]
    }
   ],
   "source": [
    "train_y = one_hot_encode(train_y)\n",
    "test_y = one_hot_encode(test_y)\n",
    "print train_y.shape\n",
    "print train_y.dtype"
   ]
  },
  {
   "cell_type": "code",
   "execution_count": 50,
   "metadata": {
    "collapsed": true
   },
   "outputs": [],
   "source": [
    "def center_whiten(X):\n",
    "    X2D = X.reshape((X.shape[0],-1))\n",
    "    import time\n",
    "    t = time.time()\n",
    "    X_centered = center_data(X2D)\n",
    "    X_whiten = zca_whiten(X_centered) # whitening costs a while\n",
    "    tcost = time.time() - t\n",
    "    print tcost\n",
    "    X_cw = X_centered.reshape(X.shape)\n",
    "    return X_cw"
   ]
  },
  {
   "cell_type": "code",
   "execution_count": 51,
   "metadata": {
    "collapsed": false
   },
   "outputs": [
    {
     "name": "stdout",
     "output_type": "stream",
     "text": [
      "0.735202074051\n"
     ]
    }
   ],
   "source": [
    "train_X_cw = center_whiten(train_X)"
   ]
  },
  {
   "cell_type": "code",
   "execution_count": 52,
   "metadata": {
    "collapsed": false
   },
   "outputs": [
    {
     "name": "stdout",
     "output_type": "stream",
     "text": [
      "0.596307039261\n"
     ]
    }
   ],
   "source": [
    "test_X_cw = center_whiten(test_X)"
   ]
  },
  {
   "cell_type": "code",
   "execution_count": 53,
   "metadata": {
    "collapsed": true
   },
   "outputs": [],
   "source": [
    "train_X_cw, test_X_cw = train_X_cw[:,:,:,None].astype(np.float32), test_X_cw[:,:,:,None].astype(np.float32)"
   ]
  },
  {
   "cell_type": "code",
   "execution_count": 54,
   "metadata": {
    "collapsed": false
   },
   "outputs": [
    {
     "name": "stdout",
     "output_type": "stream",
     "text": [
      "(880, 32, 32, 1)\n",
      "float32\n"
     ]
    }
   ],
   "source": [
    "print train_X_cw.shape\n",
    "print train_X_cw.dtype"
   ]
  },
  {
   "cell_type": "markdown",
   "metadata": {},
   "source": [
    "### Build CNN models"
   ]
  },
  {
   "cell_type": "code",
   "execution_count": 68,
   "metadata": {
    "collapsed": true
   },
   "outputs": [],
   "source": [
    "learning_rate = 0.0005"
   ]
  },
  {
   "cell_type": "code",
   "execution_count": 71,
   "metadata": {
    "collapsed": false
   },
   "outputs": [],
   "source": [
    "batch_size = 64\n",
    "input_shape = [batch_size, train_X_cw.shape[1], train_X_cw.shape[2], train_X_cw.shape[3]]\n",
    "num_class = train_y.shape[1]\n",
    "model = cnn_graph(input_shape, num_class)\n",
    "model.setup_data(batch_size, valid_X=test_X_cw, valid_y=test_y)\n",
    "conv_wt_initializer = tf.truncated_normal_initializer(stddev=0.10)#tf.contrib.layers.xavier_initializer_conv2d() \n",
    "conv_depth = 4\n",
    "\n",
    "conv_layers = [('conv1', 5), ('conv2', 5)]\n",
    "#conv_layers = [('conv1', 5)]\n",
    "for conv_layer in conv_layers:\n",
    "    layer_name, filter_size = conv_layer[0], conv_layer[1]\n",
    "    model.add_conv2d_layer(layer_name, filter_size, conv_depth,conv_wt_initializer, add_output_summary=False)\n",
    "    model.add_batchnorm_layer(layer_name+'/batchnorm', decay=.9, add_output_summary=False)\n",
    "    model.add_act_layer(layer_name+'/activation')\n",
    "    model.add_pool_layer(layer_name+'/pool')\n",
    "    conv_depth *= 2\n",
    "    \n",
    "# Fully Connected layer\n",
    "fc_layers = [('fc1', 256), ('fc2', num_class)]\n",
    "fc_wt_initializer = tf.contrib.layers.variance_scaling_initializer()\n",
    "for fc_layer in fc_layers:\n",
    "    layer_name, num_neuron = fc_layer[0], fc_layer[1]\n",
    "    model.add_fc_layer(layer_name, num_neuron, fc_wt_initializer, add_output_summary=False)\n",
    "    model.add_batchnorm_layer(layer_name+'/batchnorm', decay=.9, add_output_summary=False)\n",
    "    model.add_act_layer(layer_name+'/activation')\n",
    "    if layer_name!=fc_layers[-1][0]:\n",
    "        model.add_dropout_layer(layer_name+'/dropout')\n",
    "\n",
    "model.setup_learning_rate(learning_rate, exp_decay=False, add_output_summary=False)\n",
    "train_loss = model.compute_train_loss(add_output_summary=False)\n",
    "valid_loss = model.compute_valid_loss(add_output_summary=False)\n",
    "optimizer = model.setup_optimizer(tf.train.AdamOptimizer, add_output_summary=False)"
   ]
  },
  {
   "cell_type": "code",
   "execution_count": 72,
   "metadata": {
    "collapsed": false
   },
   "outputs": [
    {
     "name": "stdout",
     "output_type": "stream",
     "text": [
      "Initialized\n",
      "Epoch: 0:\tTrain Loss: 4.878596\tValid Loss: 9.138610\n",
      "Epoch: 500:\tTrain Loss: 1.281697\tValid Loss: 1.767373\n",
      "Epoch: 1000:\tTrain Loss: 0.723766\tValid Loss: 1.501439\n",
      "Epoch: 1500:\tTrain Loss: 0.466237\tValid Loss: 1.397314\n",
      "Epoch: 2000:\tTrain Loss: 0.305719\tValid Loss: 1.348783\n",
      "Epoch: 2500:\tTrain Loss: 0.204622\tValid Loss: 1.316814\n",
      "Epoch: 3000:\tTrain Loss: 0.157638\tValid Loss: 1.325191\n",
      "Epoch: 3500:\tTrain Loss: 0.118820\tValid Loss: 1.274694\n",
      "Epoch: 4000:\tTrain Loss: 0.108958\tValid Loss: 1.286941\n",
      "Epoch: 4500:\tTrain Loss: 0.104514\tValid Loss: 1.296308\n",
      "Epoch: 5000:\tTrain Loss: 0.073272\tValid Loss: 1.241783\n",
      "Epoch: 5500:\tTrain Loss: 0.090418\tValid Loss: 1.270299\n",
      "Epoch: 6000:\tTrain Loss: 0.059901\tValid Loss: 1.267620\n",
      "Epoch: 6500:\tTrain Loss: 0.072256\tValid Loss: 1.260132\n",
      "Epoch: 7000:\tTrain Loss: 0.024028\tValid Loss: 1.317691\n",
      "Epoch: 7500:\tTrain Loss: 0.026659\tValid Loss: 1.263311\n",
      "Epoch: 8000:\tTrain Loss: 0.033043\tValid Loss: 1.271834\n",
      "Epoch: 8500:\tTrain Loss: 0.032620\tValid Loss: 1.260111\n",
      "Epoch: 9000:\tTrain Loss: 0.028563\tValid Loss: 1.221047\n",
      "Epoch: 9500:\tTrain Loss: 0.030970\tValid Loss: 1.240899\n",
      "Finished training\n",
      "Final valid loss: 1.241644\n"
     ]
    }
   ],
   "source": [
    "epoches = 10000\n",
    "dropout = 0.5\n",
    "tloss_lst = list()\n",
    "vloss_lst = list()\n",
    "with tf.Session(graph=model.get_graph()) as sess:\n",
    "    tf.initialize_all_variables().run()\n",
    "    print(\"Initialized\")\n",
    "    model.set_kp_value('fc1/dropout', dropout)\n",
    "    train_feed_dict = model.get_kp_collection_dict()\n",
    "    for step in range(epoches):\n",
    "        offset = (step*batch_size)%(train_X_cw.shape[0]-batch_size)\n",
    "        batch_X = train_X_cw[offset:(offset+batch_size), :, :, :]\n",
    "        batch_y = train_y[offset:(offset+batch_size), :]\n",
    "        train_feed_dict.update({model.train_X : batch_X, model.train_y : batch_y})\n",
    "        _, tloss = sess.run([optimizer, train_loss], feed_dict=train_feed_dict)\n",
    "        tloss_lst.append(tloss)\n",
    "        vloss = sess.run(valid_loss, feed_dict=dict(model.kp_reference_feed_dict))\n",
    "        vloss_lst.append(vloss)\n",
    "        if step%500 == 0:\n",
    "            print('Epoch: %d:\\tTrain Loss: %.6f\\tValid Loss: %.6f' %(step, tloss, vloss))\n",
    "    print(\"Finished training\")\n",
    "    vloss = sess.run(valid_loss, feed_dict=dict(model.kp_reference_feed_dict))#valid_feed_dict\n",
    "    print(\"Final valid loss: %.6f\" %(vloss))"
   ]
  },
  {
   "cell_type": "markdown",
   "metadata": {},
   "source": [
    "**training and validation loss visulization**"
   ]
  },
  {
   "cell_type": "code",
   "execution_count": 73,
   "metadata": {
    "collapsed": false
   },
   "outputs": [
    {
     "data": {
      "image/png": "[encoded data removed]",
      "text/plain": [
       "<matplotlib.figure.Figure at 0x12342fb90>"
      ]
     },
     "metadata": {},
     "output_type": "display_data"
    }
   ],
   "source": [
    "plt.plot(range(len(tloss_lst)), tloss_lst)\n",
    "plt.hold('on')\n",
    "plt.plot(range(len(vloss_lst)), vloss_lst)\n",
    "plt.show()"
   ]
  },
  {
   "cell_type": "code",
   "execution_count": null,
   "metadata": {
    "collapsed": true
   },
   "outputs": [],
   "source": []
  }
 ],
 "metadata": {
  "kernelspec": {
   "display_name": "Python 2",
   "language": "python",
   "name": "python2"
  },
  "language_info": {
   "codemirror_mode": {
    "name": "ipython",
    "version": 2
   },
   "file_extension": ".py",
   "mimetype": "text/x-python",
   "name": "python",
   "nbconvert_exporter": "python",
   "pygments_lexer": "ipython2",
   "version": "2.7.12"
  }
 },
 "nbformat": 4,
 "nbformat_minor": 1
}
