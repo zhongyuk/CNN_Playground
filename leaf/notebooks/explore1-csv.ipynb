{
 "cells": [
  {
   "cell_type": "markdown",
   "metadata": {},
   "source": [
    "### Contents\n",
    "1. A simple Multi Logistic Perceptron (MLP) model \n",
    "2. Peform PCA dimensionality reduction -> A simple MLP model\n",
    "3. Reformate features into 4D (No. samples, 8, 8, channels:margin,texture,shape) -> A simple CNN model\n",
    "4. Does it make sense to perform CNN on these extracted features?\n",
    "5. Performance summary\n",
    "\n",
    "### Load libraries"
   ]
  },
  {
   "cell_type": "code",
   "execution_count": 1,
   "metadata": {
    "collapsed": false
   },
   "outputs": [
    {
     "name": "stderr",
     "output_type": "stream",
     "text": [
      "/Users/Zhongyu/.local/lib/python2.7/site-packages/matplotlib/font_manager.py:273: UserWarning: Matplotlib is building the font cache using fc-list. This may take a moment.\n",
      "  warnings.warn('Matplotlib is building the font cache using fc-list. This may take a moment.')\n"
     ]
    }
   ],
   "source": [
    "import pandas as pd\n",
    "import numpy as np\n",
    "import matplotlib.pyplot as plt\n",
    "from sklearn.model_selection import train_test_split\n",
    "from sklearn.decomposition import PCA\n",
    "%matplotlib inline\n",
    "import tensorflow as tf"
   ]
  },
  {
   "cell_type": "markdown",
   "metadata": {},
   "source": [
    "### A simple MLP model"
   ]
  },
  {
   "cell_type": "code",
   "execution_count": 2,
   "metadata": {
    "collapsed": true
   },
   "outputs": [],
   "source": [
    "csv_data = pd.read_csv(\"../train.csv\")"
   ]
  },
  {
   "cell_type": "code",
   "execution_count": 3,
   "metadata": {
    "collapsed": false
   },
   "outputs": [],
   "source": [
    "# extract species for numeric encoding \n",
    "species = sorted(csv_data.species.unique())\n",
    "species_dict = {specie:index for index, specie in enumerate(species)}"
   ]
  },
  {
   "cell_type": "code",
   "execution_count": 50,
   "metadata": {
    "collapsed": false
   },
   "outputs": [
    {
     "data": {
      "text/plain": [
       "{'Acer_Capillipes': 0,\n",
       " 'Acer_Circinatum': 1,\n",
       " 'Acer_Mono': 2,\n",
       " 'Acer_Opalus': 3,\n",
       " 'Acer_Palmatum': 4,\n",
       " 'Acer_Pictum': 5,\n",
       " 'Acer_Platanoids': 6,\n",
       " 'Acer_Rubrum': 7,\n",
       " 'Acer_Rufinerve': 8,\n",
       " 'Acer_Saccharinum': 9,\n",
       " 'Alnus_Cordata': 10,\n",
       " 'Alnus_Maximowiczii': 11,\n",
       " 'Alnus_Rubra': 12,\n",
       " 'Alnus_Sieboldiana': 13,\n",
       " 'Alnus_Viridis': 14,\n",
       " 'Arundinaria_Simonii': 15,\n",
       " 'Betula_Austrosinensis': 16,\n",
       " 'Betula_Pendula': 17,\n",
       " 'Callicarpa_Bodinieri': 18,\n",
       " 'Castanea_Sativa': 19,\n",
       " 'Celtis_Koraiensis': 20,\n",
       " 'Cercis_Siliquastrum': 21,\n",
       " 'Cornus_Chinensis': 22,\n",
       " 'Cornus_Controversa': 23,\n",
       " 'Cornus_Macrophylla': 24,\n",
       " 'Cotinus_Coggygria': 25,\n",
       " 'Crataegus_Monogyna': 26,\n",
       " 'Cytisus_Battandieri': 27,\n",
       " 'Eucalyptus_Glaucescens': 28,\n",
       " 'Eucalyptus_Neglecta': 29,\n",
       " 'Eucalyptus_Urnigera': 30,\n",
       " 'Fagus_Sylvatica': 31,\n",
       " 'Ginkgo_Biloba': 32,\n",
       " 'Ilex_Aquifolium': 33,\n",
       " 'Ilex_Cornuta': 34,\n",
       " 'Liquidambar_Styraciflua': 35,\n",
       " 'Liriodendron_Tulipifera': 36,\n",
       " 'Lithocarpus_Cleistocarpus': 37,\n",
       " 'Lithocarpus_Edulis': 38,\n",
       " 'Magnolia_Heptapeta': 39,\n",
       " 'Magnolia_Salicifolia': 40,\n",
       " 'Morus_Nigra': 41,\n",
       " 'Olea_Europaea': 42,\n",
       " 'Phildelphus': 43,\n",
       " 'Populus_Adenopoda': 44,\n",
       " 'Populus_Grandidentata': 45,\n",
       " 'Populus_Nigra': 46,\n",
       " 'Prunus_Avium': 47,\n",
       " 'Prunus_X_Shmittii': 48,\n",
       " 'Pterocarya_Stenoptera': 49,\n",
       " 'Quercus_Afares': 50,\n",
       " 'Quercus_Agrifolia': 51,\n",
       " 'Quercus_Alnifolia': 52,\n",
       " 'Quercus_Brantii': 53,\n",
       " 'Quercus_Canariensis': 54,\n",
       " 'Quercus_Castaneifolia': 55,\n",
       " 'Quercus_Cerris': 56,\n",
       " 'Quercus_Chrysolepis': 57,\n",
       " 'Quercus_Coccifera': 58,\n",
       " 'Quercus_Coccinea': 59,\n",
       " 'Quercus_Crassifolia': 60,\n",
       " 'Quercus_Crassipes': 61,\n",
       " 'Quercus_Dolicholepis': 62,\n",
       " 'Quercus_Ellipsoidalis': 63,\n",
       " 'Quercus_Greggii': 64,\n",
       " 'Quercus_Hartwissiana': 65,\n",
       " 'Quercus_Ilex': 66,\n",
       " 'Quercus_Imbricaria': 67,\n",
       " 'Quercus_Infectoria_sub': 68,\n",
       " 'Quercus_Kewensis': 69,\n",
       " 'Quercus_Nigra': 70,\n",
       " 'Quercus_Palustris': 71,\n",
       " 'Quercus_Phellos': 72,\n",
       " 'Quercus_Phillyraeoides': 73,\n",
       " 'Quercus_Pontica': 74,\n",
       " 'Quercus_Pubescens': 75,\n",
       " 'Quercus_Pyrenaica': 76,\n",
       " 'Quercus_Rhysophylla': 77,\n",
       " 'Quercus_Rubra': 78,\n",
       " 'Quercus_Semecarpifolia': 79,\n",
       " 'Quercus_Shumardii': 80,\n",
       " 'Quercus_Suber': 81,\n",
       " 'Quercus_Texana': 82,\n",
       " 'Quercus_Trojana': 83,\n",
       " 'Quercus_Variabilis': 84,\n",
       " 'Quercus_Vulcanica': 85,\n",
       " 'Quercus_x_Hispanica': 86,\n",
       " 'Quercus_x_Turneri': 87,\n",
       " 'Rhododendron_x_Russellianum': 88,\n",
       " 'Salix_Fragilis': 89,\n",
       " 'Salix_Intergra': 90,\n",
       " 'Sorbus_Aria': 91,\n",
       " 'Tilia_Oliveri': 92,\n",
       " 'Tilia_Platyphyllos': 93,\n",
       " 'Tilia_Tomentosa': 94,\n",
       " 'Ulmus_Bergmanniana': 95,\n",
       " 'Viburnum_Tinus': 96,\n",
       " 'Viburnum_x_Rhytidophylloides': 97,\n",
       " 'Zelkova_Serrata': 98}"
      ]
     },
     "execution_count": 50,
     "metadata": {},
     "output_type": "execute_result"
    }
   ],
   "source": [
    "species_dict"
   ]
  },
  {
   "cell_type": "code",
   "execution_count": 4,
   "metadata": {
    "collapsed": false
   },
   "outputs": [],
   "source": [
    "all_data = csv_data.replace({'species':species_dict})"
   ]
  },
  {
   "cell_type": "markdown",
   "metadata": {},
   "source": [
    "***\n",
    "**Build a simple Neural Network using shape, margin, texture features to get a sense of performance**\n",
    "\n",
    "**Split training set and testing set**"
   ]
  },
  {
   "cell_type": "code",
   "execution_count": 5,
   "metadata": {
    "collapsed": false
   },
   "outputs": [],
   "source": [
    "train_X, test_X, train_y, test_y = train_test_split(all_data.drop(['species'],axis=1), all_data['species'],\n",
    "                                                    test_size=330, stratify=all_data['species'], random_state=916)"
   ]
  },
  {
   "cell_type": "markdown",
   "metadata": {},
   "source": [
    "**Preprocess data**\n",
    " - center data and whiten X ??\n",
    " - one-hot-encode y\n",
    " - change data type"
   ]
  },
  {
   "cell_type": "code",
   "execution_count": 6,
   "metadata": {
    "collapsed": true
   },
   "outputs": [],
   "source": [
    "num_labels = len(species)"
   ]
  },
  {
   "cell_type": "code",
   "execution_count": 7,
   "metadata": {
    "collapsed": false
   },
   "outputs": [],
   "source": [
    "train_y_encode = np.arange(num_labels)==np.array(train_y)[:,None]\n",
    "test_y_encode = np.arange(num_labels)==np.array(test_y)[:,None]"
   ]
  },
  {
   "cell_type": "code",
   "execution_count": 8,
   "metadata": {
    "collapsed": false
   },
   "outputs": [],
   "source": [
    "train_y_encode = train_y_encode.astype(np.float32)\n",
    "test_y_encode = test_y_encode.astype(np.float32)"
   ]
  },
  {
   "cell_type": "code",
   "execution_count": 9,
   "metadata": {
    "collapsed": true
   },
   "outputs": [],
   "source": [
    "train_X_numpy = train_X.drop(['id'],axis=1).as_matrix().astype(np.float32)\n",
    "test_X_numpy = test_X.drop(['id'],axis=1).as_matrix().astype(np.float32)"
   ]
  },
  {
   "cell_type": "code",
   "execution_count": 10,
   "metadata": {
    "collapsed": false
   },
   "outputs": [
    {
     "name": "stdout",
     "output_type": "stream",
     "text": [
      "training set size:\t(660, 192) \t(660, 99)\n",
      "testing set size:\t(330, 192) \t(330, 99)\n"
     ]
    }
   ],
   "source": [
    "print \"training set size:\\t\", train_X_numpy.shape, '\\t', train_y_encode.shape\n",
    "print \"testing set size:\\t\", test_X_numpy.shape, '\\t', test_y_encode.shape"
   ]
  },
  {
   "cell_type": "markdown",
   "metadata": {},
   "source": [
    "**Build the MLP model**"
   ]
  },
  {
   "cell_type": "code",
   "execution_count": 51,
   "metadata": {
    "collapsed": true
   },
   "outputs": [],
   "source": [
    "batch_size = 64\n",
    "num_features = train_X_numpy.shape[1]\n",
    "hidden_layer_size = 1024"
   ]
  },
  {
   "cell_type": "code",
   "execution_count": 52,
   "metadata": {
    "collapsed": true
   },
   "outputs": [],
   "source": [
    "def initialize(scope, shape, wt_initializer, center=True, scale=True):\n",
    "    with tf.variable_scope(scope, reuse=None) as sp:\n",
    "        wt = tf.get_variable(\"weights\", shape, initializer=wt_initializer)\n",
    "        bi = tf.get_variable(\"biases\", shape[-1], initializer=tf.constant_initializer(1.))\n",
    "        if center:\n",
    "            beta = tf.get_variable(\"beta\", shape[-1], initializer=tf.constant_initializer(0.0))\n",
    "        if scale:\n",
    "            gamma = tf.get_variable(\"gamma\", shape[-1], initializer=tf.constant_initializer(1.0))\n",
    "        moving_avg = tf.get_variable(\"moving_mean\", shape[-1], initializer=tf.constant_initializer(0.0), \\\n",
    "                                     trainable=False)\n",
    "        moving_var = tf.get_variable(\"moving_variance\", shape[-1], initializer=tf.constant_initializer(1.0), \\\n",
    "                                     trainable=False)\n",
    "        sp.reuse_variables()"
   ]
  },
  {
   "cell_type": "code",
   "execution_count": 61,
   "metadata": {
    "collapsed": false
   },
   "outputs": [],
   "source": [
    "init_lr = 0.001\n",
    "graph = tf.Graph()\n",
    "with graph.as_default():\n",
    "    # prepare input \n",
    "    train_X_tf = tf.placeholder(tf.float32, shape=[batch_size, num_features])\n",
    "    train_y_tf = tf.placeholder(tf.float32, shape=[batch_size, num_labels])\n",
    "    valid_X_tf, valid_y_tf = tf.constant(test_X_numpy), tf.constant(test_y_encode)\n",
    "    \n",
    "    # initialize multi-layer parameters\n",
    "    layers = [{'scope':'hidden_layer', 'shape':[num_features, hidden_layer_size], \n",
    "               'initializer':tf.contrib.layers.xavier_initializer()},\n",
    "              {'scope':'output_layer', 'shape':[hidden_layer_size, num_labels],\n",
    "               'initializer':tf.contrib.layers.xavier_initializer()}]\n",
    "    for layer in layers:\n",
    "        initialize(layer['scope'], layer['shape'], layer['initializer'])\n",
    "    \n",
    "    # build model\n",
    "    def model(X, layer_scopes, is_training, keep_prob, decay=0.9):\n",
    "        for scope in layer_scopes:\n",
    "            with tf.variable_scope(scope, reuse=True):\n",
    "                wt = tf.get_variable(\"weights\")\n",
    "                bi = tf.get_variable(\"biases\")\n",
    "            X = tf.matmul(X, wt) + bi\n",
    "            # Batch Normalizaion\n",
    "            X = tf.contrib.layers.batch_norm(X, decay=decay, center=True, scale=True, is_training=is_training,\n",
    "                                            updates_collections=None, scope=scope, reuse=True)\n",
    "            # ReLu Activation\n",
    "            X = tf.nn.relu(X)\n",
    "            # Dropout for non-output layers\n",
    "            if scope!=layer_scopes[-1]:\n",
    "                X = tf.nn.dropout(X, keep_prob)\n",
    "        return X\n",
    "    \n",
    "    # setup a few parameters\n",
    "    layer_scopes = [l['scope'] for l in layers]\n",
    "    keep_prob = tf.placeholder(tf.float32)\n",
    "    \n",
    "    # compute log loss logloss = - 1/N*Sum(yij*log(pij)) -> yij is 1 if observation i is in class j otherwise 0\n",
    "    train_logits = model(train_X_tf, layer_scopes, True, keep_prob)\n",
    "    train_loss = tf.reduce_mean(tf.nn.softmax_cross_entropy_with_logits(train_logits, train_y_tf))\n",
    "    valid_logits = model(valid_X_tf, layer_scopes, False, keep_prob)\n",
    "    valid_loss = tf.reduce_mean(tf.nn.softmax_cross_entropy_with_logits(valid_logits, valid_y_tf))\n",
    "    \n",
    "    # setup optimizer\n",
    "    global_step = tf.Variable(0)\n",
    "    learning_rate = init_lr\n",
    "    #tf.train.exponential_decay(init_lr, global_step, decay_steps=5000, decay_rate=0.5, staircase=True)\n",
    "    optimizer = tf.train.AdamOptimizer(learning_rate).minimize(train_loss, global_step=global_step)"
   ]
  },
  {
   "cell_type": "code",
   "execution_count": 62,
   "metadata": {
    "collapsed": false
   },
   "outputs": [
    {
     "name": "stdout",
     "output_type": "stream",
     "text": [
      "Initialized\n",
      "Epoch: 0:\tTrain Loss: 4.772790\tValid Loss: 5.229158\n",
      "Epoch: 500:\tTrain Loss: 0.212472\tValid Loss: 0.368460\n",
      "Epoch: 1000:\tTrain Loss: 0.163448\tValid Loss: 0.274983\n",
      "Epoch: 1500:\tTrain Loss: 0.055808\tValid Loss: 0.239082\n",
      "Epoch: 2000:\tTrain Loss: 0.034699\tValid Loss: 0.209699\n",
      "Epoch: 2500:\tTrain Loss: 0.031398\tValid Loss: 0.188297\n",
      "Epoch: 3000:\tTrain Loss: 0.031013\tValid Loss: 0.178511\n",
      "Epoch: 3500:\tTrain Loss: 0.013220\tValid Loss: 0.176729\n",
      "Epoch: 4000:\tTrain Loss: 0.009799\tValid Loss: 0.172518\n",
      "Epoch: 4500:\tTrain Loss: 0.006094\tValid Loss: 0.163564\n",
      "Epoch: 5000:\tTrain Loss: 0.015565\tValid Loss: 0.160167\n",
      "Epoch: 5500:\tTrain Loss: 0.004902\tValid Loss: 0.145837\n",
      "Epoch: 6000:\tTrain Loss: 0.004115\tValid Loss: 0.154634\n",
      "Epoch: 6500:\tTrain Loss: 0.008227\tValid Loss: 0.146779\n",
      "Epoch: 7000:\tTrain Loss: 0.002953\tValid Loss: 0.147245\n",
      "Epoch: 7500:\tTrain Loss: 0.003330\tValid Loss: 0.146537\n",
      "Epoch: 8000:\tTrain Loss: 0.001930\tValid Loss: 0.141243\n",
      "Epoch: 8500:\tTrain Loss: 0.001662\tValid Loss: 0.128760\n",
      "Epoch: 9000:\tTrain Loss: 0.002677\tValid Loss: 0.125269\n",
      "Epoch: 9500:\tTrain Loss: 0.004959\tValid Loss: 0.126541\n",
      "Finished training\n",
      "Final valid loss: 0.109292\n"
     ]
    }
   ],
   "source": [
    "num_steps = 10000\n",
    "with tf.Session(graph=graph) as sess:\n",
    "    tf.initialize_all_variables().run()\n",
    "    print(\"Initialized\")\n",
    "    for step in range(num_steps):\n",
    "        offset = (step * batch_size) % (train_y_encode.shape[0] - batch_size)\n",
    "        batch_X = train_X_numpy[offset: (offset+batch_size), :]\n",
    "        batch_y = train_y_encode[offset: (offset+batch_size), :]\n",
    "        feed_dict = {train_X_tf: batch_X, train_y_tf: batch_y, keep_prob: 0.5}\n",
    "        _, tloss = sess.run([optimizer, train_loss], feed_dict=feed_dict)\n",
    "        if step%500==0:\n",
    "            vloss = sess.run(valid_loss, feed_dict={keep_prob: 1.0})\n",
    "            print('Epoch: %d:\\tTrain Loss: %.6f\\tValid Loss: %.6f' \\\n",
    "                %(step, tloss, vloss))\n",
    "    print(\"Finished training\")\n",
    "    vloss = sess.run(valid_loss, feed_dict={keep_prob: 1.0})\n",
    "    print(\"Final valid loss: %.6f\" %(vloss))"
   ]
  },
  {
   "cell_type": "markdown",
   "metadata": {
    "collapsed": true
   },
   "source": [
    "***\n",
    "### Apply PCA to reduce input feature sizes and then build a simple MLP "
   ]
  },
  {
   "cell_type": "code",
   "execution_count": 27,
   "metadata": {
    "collapsed": true
   },
   "outputs": [],
   "source": [
    "def pca_transform(feature, n_components):\n",
    "    cols = [col for col in list(all_data.columns) if feature in col]\n",
    "    selected_cols = all_data[cols]\n",
    "    pca_obj = PCA(n_components=n_components, whiten=True)\n",
    "    pca_obj.fit(selected_cols)\n",
    "    print \"total explained variance by \",n_components,'principle components: \\t',sum(pca_obj.explained_variance_ratio_)\n",
    "    transformed = pca_obj.transform(selected_cols)\n",
    "    return transformed"
   ]
  },
  {
   "cell_type": "code",
   "execution_count": 19,
   "metadata": {
    "collapsed": false
   },
   "outputs": [
    {
     "name": "stdout",
     "output_type": "stream",
     "text": [
      "total explained variance by  8 principle components: \t0.809681416276\n"
     ]
    }
   ],
   "source": [
    "margin = pca_transform(\"margin\", 8)"
   ]
  },
  {
   "cell_type": "code",
   "execution_count": 21,
   "metadata": {
    "collapsed": false
   },
   "outputs": [
    {
     "name": "stdout",
     "output_type": "stream",
     "text": [
      "total explained variance by  10 principle components: \t0.744586306496\n"
     ]
    }
   ],
   "source": [
    "texture = pca_transform(\"texture\", 10)"
   ]
  },
  {
   "cell_type": "code",
   "execution_count": 22,
   "metadata": {
    "collapsed": false
   },
   "outputs": [
    {
     "name": "stdout",
     "output_type": "stream",
     "text": [
      "total explained variance by  3 principle components: \t0.963772808809\n"
     ]
    }
   ],
   "source": [
    "shape = pca_transform(\"shape\",3)"
   ]
  },
  {
   "cell_type": "code",
   "execution_count": 24,
   "metadata": {
    "collapsed": false
   },
   "outputs": [],
   "source": [
    "data_transformed = np.concatenate((margin, texture, shape), axis=1)"
   ]
  },
  {
   "cell_type": "markdown",
   "metadata": {},
   "source": [
    "**Split data**"
   ]
  },
  {
   "cell_type": "code",
   "execution_count": 63,
   "metadata": {
    "collapsed": true
   },
   "outputs": [],
   "source": [
    "train_X, test_X, train_y, test_y = train_test_split(data_transformed, all_data['species'],\n",
    "                                                    test_size=330, stratify=all_data['species'], random_state=916)"
   ]
  },
  {
   "cell_type": "code",
   "execution_count": 64,
   "metadata": {
    "collapsed": true
   },
   "outputs": [],
   "source": [
    "train_y_encode = np.arange(num_labels)==np.array(train_y)[:,None]\n",
    "test_y_encode = np.arange(num_labels)==np.array(test_y)[:,None]"
   ]
  },
  {
   "cell_type": "code",
   "execution_count": 65,
   "metadata": {
    "collapsed": true
   },
   "outputs": [],
   "source": [
    "train_y_encode = train_y_encode.astype(np.float32)\n",
    "test_y_encode = test_y_encode.astype(np.float32)"
   ]
  },
  {
   "cell_type": "code",
   "execution_count": 66,
   "metadata": {
    "collapsed": true
   },
   "outputs": [],
   "source": [
    "train_X_numpy = train_X.astype(np.float32)\n",
    "test_X_numpy = test_X.astype(np.float32)"
   ]
  },
  {
   "cell_type": "code",
   "execution_count": 67,
   "metadata": {
    "collapsed": false
   },
   "outputs": [
    {
     "name": "stdout",
     "output_type": "stream",
     "text": [
      "training set size:\t(660, 21) \t(660, 99)\n",
      "testing set size:\t(330, 21) \t(330, 99)\n"
     ]
    }
   ],
   "source": [
    "print \"training set size:\\t\", train_X_numpy.shape, '\\t', train_y_encode.shape\n",
    "print \"testing set size:\\t\", test_X_numpy.shape, '\\t', test_y_encode.shape"
   ]
  },
  {
   "cell_type": "markdown",
   "metadata": {},
   "source": [
    "**PCA transformed simple MLP**"
   ]
  },
  {
   "cell_type": "code",
   "execution_count": 68,
   "metadata": {
    "collapsed": true
   },
   "outputs": [],
   "source": [
    "batch_size = 64\n",
    "num_features = train_X_numpy.shape[1]\n",
    "hidden_layer_size = 1024"
   ]
  },
  {
   "cell_type": "code",
   "execution_count": 69,
   "metadata": {
    "collapsed": true
   },
   "outputs": [],
   "source": [
    "init_lr = 0.001\n",
    "graph = tf.Graph()\n",
    "with graph.as_default():\n",
    "    # prepare input \n",
    "    train_X_tf = tf.placeholder(tf.float32, shape=[batch_size, num_features])\n",
    "    train_y_tf = tf.placeholder(tf.float32, shape=[batch_size, num_labels])\n",
    "    valid_X_tf, valid_y_tf = tf.constant(test_X_numpy), tf.constant(test_y_encode)\n",
    "    \n",
    "    # initialize multi-layer parameters\n",
    "    layers = [{'scope':'hidden_layer', 'shape':[num_features, hidden_layer_size], \n",
    "               'initializer':tf.contrib.layers.xavier_initializer()},\n",
    "              {'scope':'output_layer', 'shape':[hidden_layer_size, num_labels],\n",
    "               'initializer':tf.contrib.layers.xavier_initializer()}]\n",
    "    for layer in layers:\n",
    "        initialize(layer['scope'], layer['shape'], layer['initializer'])\n",
    "    \n",
    "    # build model\n",
    "    def model(X, layer_scopes, is_training, keep_prob, decay=0.9):\n",
    "        for scope in layer_scopes:\n",
    "            with tf.variable_scope(scope, reuse=True):\n",
    "                wt = tf.get_variable(\"weights\")\n",
    "                bi = tf.get_variable(\"biases\")\n",
    "            X = tf.matmul(X, wt) + bi\n",
    "            # Batch Normalizaion\n",
    "            X = tf.contrib.layers.batch_norm(X, decay=decay, center=True, scale=True, is_training=is_training,\n",
    "                                            updates_collections=None, scope=scope, reuse=True)\n",
    "            # ReLu Activation\n",
    "            X = tf.nn.relu(X)\n",
    "            # Dropout for non-output layers\n",
    "            if scope!=layer_scopes[-1]:\n",
    "                X = tf.nn.dropout(X, keep_prob)\n",
    "        return X\n",
    "    \n",
    "    # setup a few parameters\n",
    "    layer_scopes = [l['scope'] for l in layers]\n",
    "    keep_prob = tf.placeholder(tf.float32)\n",
    "    \n",
    "    # compute log loss logloss = - 1/N*Sum(yij*log(pij)) -> yij is 1 if observation i is in class j otherwise 0\n",
    "    train_logits = model(train_X_tf, layer_scopes, True, keep_prob)\n",
    "    train_loss = tf.reduce_mean(tf.nn.softmax_cross_entropy_with_logits(train_logits, train_y_tf))\n",
    "    valid_logits = model(valid_X_tf, layer_scopes, False, keep_prob)\n",
    "    valid_loss = tf.reduce_mean(tf.nn.softmax_cross_entropy_with_logits(valid_logits, valid_y_tf))\n",
    "    \n",
    "    # setup optimizer\n",
    "    global_step = tf.Variable(0)\n",
    "    learning_rate = init_lr\n",
    "    #tf.train.exponential_decay(init_lr, global_step, decay_steps=5000, decay_rate=0.5, staircase=True)\n",
    "    optimizer = tf.train.AdamOptimizer(learning_rate).minimize(train_loss, global_step=global_step)"
   ]
  },
  {
   "cell_type": "code",
   "execution_count": 70,
   "metadata": {
    "collapsed": false
   },
   "outputs": [
    {
     "name": "stdout",
     "output_type": "stream",
     "text": [
      "Initialized\n",
      "Epoch: 0:\tTrain Loss: 4.746964\tValid Loss: 5.081502\n",
      "Epoch: 500:\tTrain Loss: 0.590641\tValid Loss: 0.575387\n",
      "Epoch: 1000:\tTrain Loss: 0.434571\tValid Loss: 0.340101\n",
      "Epoch: 1500:\tTrain Loss: 0.217021\tValid Loss: 0.257954\n",
      "Epoch: 2000:\tTrain Loss: 0.135749\tValid Loss: 0.224440\n",
      "Epoch: 2500:\tTrain Loss: 0.115030\tValid Loss: 0.192081\n",
      "Epoch: 3000:\tTrain Loss: 0.116827\tValid Loss: 0.175697\n",
      "Epoch: 3500:\tTrain Loss: 0.058373\tValid Loss: 0.163170\n",
      "Epoch: 4000:\tTrain Loss: 0.049189\tValid Loss: 0.150002\n",
      "Epoch: 4500:\tTrain Loss: 0.038955\tValid Loss: 0.149582\n",
      "Epoch: 5000:\tTrain Loss: 0.060937\tValid Loss: 0.147339\n",
      "Epoch: 5500:\tTrain Loss: 0.032217\tValid Loss: 0.137791\n",
      "Epoch: 6000:\tTrain Loss: 0.018771\tValid Loss: 0.140775\n",
      "Epoch: 6500:\tTrain Loss: 0.042064\tValid Loss: 0.137352\n",
      "Epoch: 7000:\tTrain Loss: 0.052881\tValid Loss: 0.146210\n",
      "Epoch: 7500:\tTrain Loss: 0.018415\tValid Loss: 0.135323\n",
      "Epoch: 8000:\tTrain Loss: 0.009094\tValid Loss: 0.125074\n",
      "Epoch: 8500:\tTrain Loss: 0.010724\tValid Loss: 0.141062\n",
      "Epoch: 9000:\tTrain Loss: 0.015527\tValid Loss: 0.138396\n",
      "Epoch: 9500:\tTrain Loss: 0.016148\tValid Loss: 0.133632\n",
      "Finished training\n",
      "Final valid loss: 0.124592\n"
     ]
    }
   ],
   "source": [
    "num_steps = 10000\n",
    "with tf.Session(graph=graph) as sess:\n",
    "    tf.initialize_all_variables().run()\n",
    "    print(\"Initialized\")\n",
    "    for step in range(num_steps):\n",
    "        offset = (step * batch_size) % (train_y_encode.shape[0] - batch_size)\n",
    "        batch_X = train_X_numpy[offset: (offset+batch_size), :]\n",
    "        batch_y = train_y_encode[offset: (offset+batch_size), :]\n",
    "        feed_dict = {train_X_tf: batch_X, train_y_tf: batch_y, keep_prob: 0.3}\n",
    "        _, tloss = sess.run([optimizer, train_loss], feed_dict=feed_dict)\n",
    "        if step%500==0:\n",
    "            vloss = sess.run(valid_loss, feed_dict={keep_prob: 1.0})\n",
    "            print('Epoch: %d:\\tTrain Loss: %.6f\\tValid Loss: %.6f' \\\n",
    "                %(step, tloss, vloss))\n",
    "    print(\"Finished training\")\n",
    "    vloss = sess.run(valid_loss, feed_dict={keep_prob: 1.0})\n",
    "    print(\"Final valid loss: %.6f\" %(vloss))"
   ]
  },
  {
   "cell_type": "markdown",
   "metadata": {},
   "source": [
    "***\n",
    "### Simple CNN"
   ]
  },
  {
   "cell_type": "code",
   "execution_count": 14,
   "metadata": {
    "collapsed": true
   },
   "outputs": [],
   "source": [
    "import sys\n",
    "sys.path.append(\"/Users/Zhongyu/Documents/projects/CNNplayground/\")\n",
    "from cnn import *"
   ]
  },
  {
   "cell_type": "code",
   "execution_count": 11,
   "metadata": {
    "collapsed": true
   },
   "outputs": [],
   "source": [
    "train_X, test_X, train_y, test_y = train_test_split(all_data.drop(['species'],axis=1), all_data['species'],\n",
    "                                                    test_size=330, stratify=all_data['species'], random_state=916)"
   ]
  },
  {
   "cell_type": "markdown",
   "metadata": {},
   "source": [
    "**Prepare input data for CNN**"
   ]
  },
  {
   "cell_type": "code",
   "execution_count": 12,
   "metadata": {
    "collapsed": false
   },
   "outputs": [],
   "source": [
    "# One-Hot-Encode y\n",
    "train_y_encode = np.arange(num_labels)==np.array(train_y)[:,None]\n",
    "test_y_encode = np.arange(num_labels)==np.array(test_y)[:,None]\n",
    "train_y_encode = train_y_encode.astype(np.float32)\n",
    "test_y_encode = test_y_encode.astype(np.float32)"
   ]
  },
  {
   "cell_type": "code",
   "execution_count": 13,
   "metadata": {
    "collapsed": true
   },
   "outputs": [],
   "source": [
    "def reshape_feature(X_df, feature, order='F'):\n",
    "    cols = [col for col in list(X_df.columns) if feature in col]\n",
    "    selected_cols = X_df[cols].as_matrix()\n",
    "    reshaped_cols = selected_cols.reshape((X_df.shape[0], 8,8), order=order)\n",
    "    return reshaped_cols.astype(np.float32)"
   ]
  },
  {
   "cell_type": "code",
   "execution_count": 14,
   "metadata": {
    "collapsed": false
   },
   "outputs": [],
   "source": [
    "train_margin = reshape_feature(train_X, 'margin')\n",
    "train_texture = reshape_feature(train_X, 'texture')\n",
    "train_shape = reshape_feature(train_X, 'shape')"
   ]
  },
  {
   "cell_type": "code",
   "execution_count": 15,
   "metadata": {
    "collapsed": false
   },
   "outputs": [],
   "source": [
    "test_margin = reshape_feature(test_X, 'margin')\n",
    "test_texture = reshape_feature(test_X, 'texture')\n",
    "test_shape = reshape_feature(test_X, 'shape')"
   ]
  },
  {
   "cell_type": "code",
   "execution_count": 16,
   "metadata": {
    "collapsed": true
   },
   "outputs": [],
   "source": [
    "train_X_numpy = np.concatenate((train_margin[:,:,:,None], train_texture[:,:,:,None], train_shape[:,:,:,None]), axis=3)\n",
    "test_X_numpy = np.concatenate((test_margin[:,:,:,None], test_texture[:,:,:,None], test_shape[:,:,:,None]), axis=3)"
   ]
  },
  {
   "cell_type": "code",
   "execution_count": 17,
   "metadata": {
    "collapsed": false
   },
   "outputs": [
    {
     "name": "stdout",
     "output_type": "stream",
     "text": [
      "training set size:\t(660, 8, 8, 3) \t(660, 99)\n",
      "testing set size:\t(330, 8, 8, 3) \t(330, 99)\n"
     ]
    }
   ],
   "source": [
    "print \"training set size:\\t\", train_X_numpy.shape, '\\t', train_y_encode.shape\n",
    "print \"testing set size:\\t\", test_X_numpy.shape, '\\t', test_y_encode.shape"
   ]
  },
  {
   "cell_type": "markdown",
   "metadata": {},
   "source": [
    "**Simple CNN**"
   ]
  },
  {
   "cell_type": "code",
   "execution_count": 22,
   "metadata": {
    "collapsed": true
   },
   "outputs": [],
   "source": [
    "batch_size = 64\n",
    "input_shape = [batch_size, 8, 8, 3]\n",
    "conv_depth = 3"
   ]
  },
  {
   "cell_type": "code",
   "execution_count": 26,
   "metadata": {
    "collapsed": false
   },
   "outputs": [],
   "source": [
    "model = cnn_graph(input_shape, num_labels)\n",
    "model.setup_data(batch_size, valid_X=test_X_numpy, valid_y=test_y_encode)\n",
    "#conv_wt_initializer = tf.truncated_normal_initializer(stddev=0.10)\n",
    "conv_wt_initializer = tf.contrib.layers.xavier_initializer_conv2d()\n",
    "conv_layer = ('conv1', 5)\n",
    "\n",
    "# Convolutional layer\n",
    "layer_name, filter_size = conv_layer[0], conv_layer[1]\n",
    "model.add_convIncept_layer(layer_name, conv_depth, conv_wt_initializer, add_output_summary=False)\n",
    "model.add_batchnorm_layer(layer_name+'/batchnorm', add_output_summary=False)\n",
    "model.add_act_layer(layer_name+'/activation')\n",
    "#model.add_pool_layer(layer_name+'/pool')\n",
    "\n",
    "# Fully Connected layer\n",
    "fc_layers = [('fc1', 3096), ('fc2', num_labels)]\n",
    "fc_wt_initializer = tf.contrib.layers.variance_scaling_initializer()\n",
    "for fc_layer in fc_layers:\n",
    "    layer_name, num_neuron = fc_layer[0], fc_layer[1]\n",
    "    model.add_fc_layer(layer_name, num_neuron, fc_wt_initializer, add_output_summary=False)\n",
    "    model.add_batchnorm_layer(layer_name+'/batchnorm', add_output_summary=False)\n",
    "    model.add_act_layer(layer_name+'/activation')\n",
    "    if layer_name!=fc_layers[-1][0]:\n",
    "        model.add_dropout_layer(layer_name+'/dropout')\n",
    "\n",
    "# Setup learning rate and optimizer\n",
    "model.setup_learning_rate(0.0005, exp_decay=False, add_output_summary=False)\n",
    "train_loss = model.compute_train_loss(add_output_summary=False)\n",
    "valid_loss = model.compute_valid_loss(add_output_summary=False)\n",
    "optimizer = model.setup_optimizer(tf.train.AdamOptimizer, add_output_summary=False)"
   ]
  },
  {
   "cell_type": "code",
   "execution_count": 159,
   "metadata": {
    "collapsed": false
   },
   "outputs": [
    {
     "name": "stdout",
     "output_type": "stream",
     "text": [
      "initialized\n",
      "Epoch: 0:\tTrain Loss: 4.823782\tValid Loss: 7.345297\n",
      "Epoch: 500:\tTrain Loss: 0.287523\tValid Loss: 0.484034\n",
      "Epoch: 1000:\tTrain Loss: 0.255505\tValid Loss: 0.351168\n",
      "Epoch: 1500:\tTrain Loss: 0.103999\tValid Loss: 0.301318\n",
      "Epoch: 2000:\tTrain Loss: 0.074699\tValid Loss: 0.269202\n",
      "Epoch: 2500:\tTrain Loss: 0.073452\tValid Loss: 0.244439\n",
      "Epoch: 3000:\tTrain Loss: 0.062099\tValid Loss: 0.226238\n",
      "Epoch: 3500:\tTrain Loss: 0.026829\tValid Loss: 0.213649\n",
      "Epoch: 4000:\tTrain Loss: 0.030227\tValid Loss: 0.204544\n",
      "Epoch: 4500:\tTrain Loss: 0.015463\tValid Loss: 0.194076\n",
      "Epoch: 5000:\tTrain Loss: 0.035782\tValid Loss: 0.176879\n",
      "Epoch: 5500:\tTrain Loss: 0.015866\tValid Loss: 0.181853\n",
      "Epoch: 6000:\tTrain Loss: 0.010127\tValid Loss: 0.173707\n",
      "Epoch: 6500:\tTrain Loss: 0.019437\tValid Loss: 0.162272\n",
      "Epoch: 7000:\tTrain Loss: 0.007182\tValid Loss: 0.160137\n",
      "Epoch: 7500:\tTrain Loss: 0.010288\tValid Loss: 0.156322\n",
      "Epoch: 8000:\tTrain Loss: 0.006460\tValid Loss: 0.149806\n",
      "Epoch: 8500:\tTrain Loss: 0.004348\tValid Loss: 0.153534\n",
      "Epoch: 9000:\tTrain Loss: 0.004291\tValid Loss: 0.146979\n",
      "Epoch: 9500:\tTrain Loss: 0.005530\tValid Loss: 0.143900\n",
      "Epoch: 10000:\tTrain Loss: 0.001914\tValid Loss: 0.137674\n",
      "Epoch: 10500:\tTrain Loss: 0.001655\tValid Loss: 0.127195\n",
      "Epoch: 11000:\tTrain Loss: 0.001442\tValid Loss: 0.131614\n",
      "Epoch: 11500:\tTrain Loss: 0.002051\tValid Loss: 0.128807\n",
      "Epoch: 12000:\tTrain Loss: 0.001237\tValid Loss: 0.126600\n",
      "Epoch: 12500:\tTrain Loss: 0.000985\tValid Loss: 0.118391\n",
      "Epoch: 13000:\tTrain Loss: 0.003001\tValid Loss: 0.119449\n",
      "Epoch: 13500:\tTrain Loss: 0.000699\tValid Loss: 0.124431\n",
      "Epoch: 14000:\tTrain Loss: 0.001047\tValid Loss: 0.118249\n",
      "Epoch: 14500:\tTrain Loss: 0.000527\tValid Loss: 0.125018\n",
      "Epoch: 15000:\tTrain Loss: 0.000512\tValid Loss: 0.131677\n",
      "Epoch: 15500:\tTrain Loss: 0.000308\tValid Loss: 0.121818\n",
      "Epoch: 16000:\tTrain Loss: 0.000441\tValid Loss: 0.119732\n",
      "Epoch: 16500:\tTrain Loss: 0.000129\tValid Loss: 0.124285\n",
      "Epoch: 17000:\tTrain Loss: 0.000186\tValid Loss: 0.113739\n",
      "Epoch: 17500:\tTrain Loss: 0.000147\tValid Loss: 0.121195\n",
      "Epoch: 18000:\tTrain Loss: 0.000168\tValid Loss: 0.118332\n",
      "Epoch: 18500:\tTrain Loss: 0.000946\tValid Loss: 0.198161\n",
      "Epoch: 19000:\tTrain Loss: 0.003117\tValid Loss: 0.108436\n",
      "Epoch: 19500:\tTrain Loss: 0.000605\tValid Loss: 0.134312\n",
      "Finished training\n",
      "Final valid loss: 0.116899\n"
     ]
    }
   ],
   "source": [
    "# Start a session\n",
    "graph = model.get_graph()\n",
    "training_steps = 20000\n",
    "with tf.Session(graph=graph) as sess:\n",
    "    tf.initialize_all_variables().run()\n",
    "    print(\"initialized\")\n",
    "    model.set_kp_value('fc1/dropout', 0.3)\n",
    "    train_feed_dict = model.get_kp_collection_dict()\n",
    "    for step in range(training_steps):\n",
    "        offset = (step*batch_size)%(train_X.shape[0]-batch_size)\n",
    "        batch_X = train_X_numpy[offset:(offset+batch_size),:,:,:]\n",
    "        batch_y = train_y_encode[offset:(offset+batch_size),:]\n",
    "        train_feed_dict.update({model.train_X : batch_X,\n",
    "                                model.train_y : batch_y})\n",
    "        _, tloss = sess.run([optimizer, train_loss], feed_dict=train_feed_dict)\n",
    "        if step%500 == 0:\n",
    "            vloss = sess.run(valid_loss, feed_dict=model.kp_reference_feed_dict)\n",
    "            print('Epoch: %d:\\tTrain Loss: %.6f\\tValid Loss: %.6f' \\\n",
    "                %(step, tloss, vloss))\n",
    "    print(\"Finished training\")\n",
    "    vloss = sess.run(valid_loss, feed_dict=model.kp_reference_feed_dict)\n",
    "    print(\"Final valid loss: %.6f\" %(vloss))"
   ]
  },
  {
   "cell_type": "markdown",
   "metadata": {},
   "source": [
    "### Would it make sense to apply CNN on extracted-features/non-image? Visulization"
   ]
  },
  {
   "cell_type": "code",
   "execution_count": 89,
   "metadata": {
    "collapsed": true
   },
   "outputs": [],
   "source": [
    "leaf0name = [k for k, v in species_dict.items() if v==0]\n",
    "leaf1name = [k for k, v in species_dict.items() if v==14]"
   ]
  },
  {
   "cell_type": "code",
   "execution_count": 90,
   "metadata": {
    "collapsed": false
   },
   "outputs": [
    {
     "name": "stdout",
     "output_type": "stream",
     "text": [
      "['Acer_Capillipes']\n",
      "['Alnus_Viridis']\n"
     ]
    }
   ],
   "source": [
    "print leaf0name\n",
    "print leaf1name"
   ]
  },
  {
   "cell_type": "code",
   "execution_count": 61,
   "metadata": {
    "collapsed": true
   },
   "outputs": [],
   "source": [
    "leaf0bool = train_y==0\n",
    "leaf1bool = train_y==14"
   ]
  },
  {
   "cell_type": "code",
   "execution_count": 62,
   "metadata": {
    "collapsed": true
   },
   "outputs": [],
   "source": [
    "leaf0index = np.where(leaf0bool)\n",
    "leaf1index = np.where(leaf1bool)"
   ]
  },
  {
   "cell_type": "code",
   "execution_count": 63,
   "metadata": {
    "collapsed": false
   },
   "outputs": [],
   "source": [
    "leaf0samples = np.squeeze(train_X_numpy[leaf0index,:,:,:], axis=0)\n",
    "leaf1samples = np.squeeze(train_X_numpy[leaf1index,:,:,:], axis=0)"
   ]
  },
  {
   "cell_type": "code",
   "execution_count": 83,
   "metadata": {
    "collapsed": true
   },
   "outputs": [],
   "source": [
    "def plot_as_RGB(leaf0, leaf1):\n",
    "    max_col = 7\n",
    "    for i in range(1, max_col*2+1):\n",
    "        plt.subplot(2, max_col, i)\n",
    "        if i<=max_col:\n",
    "            sample = leaf0samples[i-1,:,:,:]\n",
    "        else:\n",
    "            sample = leaf1samples[i-max_col-1,:,:,:]\n",
    "        sampleRGB = sample*255\n",
    "        plt.imshow(sampleRGB)\n",
    "        plt.axis('off')\n",
    "    plt.show()"
   ]
  },
  {
   "cell_type": "code",
   "execution_count": 84,
   "metadata": {
    "collapsed": false
   },
   "outputs": [
    {
     "data": {
      "image/png": "[encoded data removed]",
      "text/plain": [
       "<matplotlib.figure.Figure at 0x1159232d0>"
      ]
     },
     "metadata": {},
     "output_type": "display_data"
    }
   ],
   "source": [
    "plot_as_RGB(leaf0samples, leaf1samples)"
   ]
  },
  {
   "cell_type": "code",
   "execution_count": 85,
   "metadata": {
    "collapsed": true
   },
   "outputs": [],
   "source": [
    "def plot_as_gray(leaf0, leaf1, channel):\n",
    "    max_col = 7\n",
    "    for i in range(1, max_col*2+1):\n",
    "        plt.subplot(2, max_col, i)\n",
    "        if i<=max_col:\n",
    "            sample = leaf0samples[i-1,:,:,:]\n",
    "        else:\n",
    "            sample = leaf1samples[i-max_col-1,:,:,:]\n",
    "        sampleRGB = sample*255\n",
    "        sampleGray = sampleRGB[:,:,channel]\n",
    "        plt.imshow(sampleGray, cmap=plt.cm.gray)\n",
    "        plt.axis('off')\n",
    "    plt.show()"
   ]
  },
  {
   "cell_type": "code",
   "execution_count": 86,
   "metadata": {
    "collapsed": false
   },
   "outputs": [
    {
     "data": {
      "image/png": "[encoded data removed]",
      "text/plain": [
       "<matplotlib.figure.Figure at 0x11b5cb990>"
      ]
     },
     "metadata": {},
     "output_type": "display_data"
    }
   ],
   "source": [
    "plot_as_gray(leaf0samples, leaf1samples, 0)"
   ]
  },
  {
   "cell_type": "code",
   "execution_count": 91,
   "metadata": {
    "collapsed": false
   },
   "outputs": [
    {
     "data": {
      "image/png": "[encoded data removed]",
      "text/plain": [
       "<matplotlib.figure.Figure at 0x118ef4110>"
      ]
     },
     "metadata": {},
     "output_type": "display_data"
    }
   ],
   "source": [
    "plot_as_gray(leaf0samples, leaf1samples, 1)"
   ]
  },
  {
   "cell_type": "code",
   "execution_count": 92,
   "metadata": {
    "collapsed": false
   },
   "outputs": [
    {
     "data": {
      "image/png": "[encoded data removed]",
      "text/plain": [
       "<matplotlib.figure.Figure at 0x11a0074d0>"
      ]
     },
     "metadata": {},
     "output_type": "display_data"
    }
   ],
   "source": [
    "plot_as_gray(leaf0samples, leaf1samples, 2)"
   ]
  },
  {
   "cell_type": "markdown",
   "metadata": {},
   "source": [
    "**Although treating 3D reshaped extracted features as RGB directly and plotting it out, the pattern is not obvious, plotting out the image channel by channel gives a more apparent hidden pattern between different species.**"
   ]
  },
  {
   "cell_type": "markdown",
   "metadata": {},
   "source": [
    "***\n",
    "### Performance Summary\n",
    "\n",
    "| Models     | Preprocess | No. Features| Architecture |Epoches | Learning Rate| Dropout | Performance |\n",
    "| -----------|:-----------| :-----:| :----:|\n",
    "| Simple MLP | None       | 128|->FC->BN->ReLu->Dropout->FC->BN->ReLu->Softmax|10000|0.001|0.5|0.1093|\n",
    "| PCA MLP    | PCA white  | 21 |->FC->BN->ReLu->Dropout->FC->BN->ReLu->Softmax|10000|0.001|0.3|0.1246|\n",
    "| Simple CNN | None       | 8x8x3|->ConvIncept->FC->BN->ReLu->Dropout->FC->BN->ReLu->Softmax|20000|0.0005|0.3|0.1169|\n"
   ]
  },
  {
   "cell_type": "code",
   "execution_count": null,
   "metadata": {
    "collapsed": true
   },
   "outputs": [],
   "source": []
  }
 ],
 "metadata": {
  "kernelspec": {
   "display_name": "Python 2",
   "language": "python",
   "name": "python2"
  },
  "language_info": {
   "codemirror_mode": {
    "name": "ipython",
    "version": 2
   },
   "file_extension": ".py",
   "mimetype": "text/x-python",
   "name": "python",
   "nbconvert_exporter": "python",
   "pygments_lexer": "ipython2",
   "version": "2.7.12"
  }
 },
 "nbformat": 4,
 "nbformat_minor": 0
}
